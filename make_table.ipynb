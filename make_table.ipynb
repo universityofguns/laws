{
 "cells": [
  {
   "cell_type": "code",
   "execution_count": null,
   "metadata": {},
   "outputs": [],
   "source": [
    "def create_state_laws_markdown(states):\n",
    "    \"\"\"\n",
    "    Generate a Markdown table for state firearm laws.\n",
    "\n",
    "    Args:\n",
    "        states (list): List of state names.\n",
    "\n",
    "    Returns:\n",
    "        str: Markdown table as a string.\n",
    "    \"\"\"\n",
    "    base_urls = {\n",
    "        \"Gun Laws\": \"https://github.com/universityofguns/laws/blob/main/state-gun-laws/{state}-Gun-Laws.md\",\n",
    "        \"Concealed Carry Laws\": \"https://github.com/universityofguns/laws/blob/main/concealed-carry-laws/{state}-Concealed-Carry.md\",\n",
    "        \"Open Carry Laws\": \"https://github.com/universityofguns/laws/blob/main/open-carry-laws/{state}-Open-Carry-Laws.md\",\n",
    "        \"Constitutional Carry Laws\": \"https://github.com/universityofguns/laws/blob/main/constitutional-carry-laws/{state}-Constitutional-Carry-Laws.md\",\n",
    "    }\n",
    "    \n",
    "    # Table Header\n",
    "    table = \"| State | Gun Laws | Concealed Carry Laws | Open Carry Laws | Constitutional Carry Laws |\\n\"\n",
    "    table += \"|-------|----------|-----------------------|-----------------|----------------------------|\\n\"\n",
    "    \n",
    "    # Generate rows for each state\n",
    "    for state in states:\n",
    "        row = f\"| {state} \"\n",
    "        row += f\"| [{state} State Gun Laws]({base_urls['Gun Laws'].format(state=state.replace(' ', '-'))}) \"\n",
    "        row += f\"| [{state} Concealed Carry Laws]({base_urls['Concealed Carry Laws'].format(state=state.replace(' ', '-'))}) \"\n",
    "        row += f\"| [{state} Open Carry Laws]({base_urls['Open Carry Laws'].format(state=state.replace(' ', '-'))}) \"\n",
    "        row += f\"| [{state} Constitutional Carry Laws]({base_urls['Constitutional Carry Laws'].format(state=state.replace(' ', '-'))}) \"\n",
    "        row += \"|\\n\"\n",
    "        table += row\n",
    "    \n",
    "    return table\n",
    "\n",
    "# Example usage:\n",
    "states_list = [\n",
    "    \"Alabama\", \"Alaska\", \"Arizona\", \"Arkansas\", \"California\", \"Colorado\", \"Connecticut\", \"Delaware\",\n",
    "    \"Florida\", \"Georgia\", \"Hawaii\", \"Idaho\", \"Illinois\", \"Indiana\", \"Iowa\", \"Kansas\", \"Kentucky\",\n",
    "    \"Louisiana\", \"Maine\", \"Maryland\", \"Massachusetts\", \"Michigan\", \"Minnesota\", \"Mississippi\", \"Missouri\",\n",
    "    \"Montana\", \"Nebraska\", \"Nevada\", \"New Hampshire\", \"New Jersey\", \"New Mexico\", \"New York\",\n",
    "    \"North Carolina\", \"North Dakota\", \"Ohio\", \"Oklahoma\", \"Oregon\", \"Pennsylvania\", \"Rhode Island\",\n",
    "    \"South Carolina\", \"South Dakota\", \"Tennessee\", \"Texas\", \"Utah\", \"Vermont\", \"Virginia\", \"Washington\",\n",
    "    \"West Virginia\", \"Wisconsin\", \"Wyoming\"\n",
    "]\n",
    "\n",
    "# Generate and print the markdown table\n",
    "markdown_table = create_state_laws_markdown(states_list)\n",
    "print(markdown_table)\n"
   ]
  }
 ],
 "metadata": {
  "kernelspec": {
   "display_name": ".venv",
   "language": "python",
   "name": "python3"
  },
  "language_info": {
   "codemirror_mode": {
    "name": "ipython",
    "version": 3
   },
   "file_extension": ".py",
   "mimetype": "text/x-python",
   "name": "python",
   "nbconvert_exporter": "python",
   "pygments_lexer": "ipython3",
   "version": "3.10.0"
  }
 },
 "nbformat": 4,
 "nbformat_minor": 2
}
